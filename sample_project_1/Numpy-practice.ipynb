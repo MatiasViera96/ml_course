{
 "cells": [
  {
   "cell_type": "code",
   "execution_count": 1,
   "id": "8dfd4e16-c20c-4a42-a53b-cfdf93dbacd5",
   "metadata": {},
   "outputs": [],
   "source": [
    "# Import NumPy as its abbreviation 'np'\n",
    "import numpy as np"
   ]
  },
  {
   "cell_type": "code",
   "execution_count": 2,
   "id": "ebaeb5fb-75f4-41a2-bf14-08061f2536eb",
   "metadata": {},
   "outputs": [
    {
     "data": {
      "text/plain": [
       "array([1, 2, 3])"
      ]
     },
     "execution_count": 2,
     "metadata": {},
     "output_type": "execute_result"
    }
   ],
   "source": [
    "# Create a 1-dimensional NumPy array using np.array()\n",
    "a1 = np.array([1, 2, 3])\n",
    "a1"
   ]
  },
  {
   "cell_type": "code",
   "execution_count": 3,
   "id": "a8efabc5-f48a-46cf-9fa9-c6112ba6dde3",
   "metadata": {},
   "outputs": [
    {
     "data": {
      "text/plain": [
       "array([[1, 2, 3],\n",
       "       [4, 5, 6]])"
      ]
     },
     "execution_count": 3,
     "metadata": {},
     "output_type": "execute_result"
    }
   ],
   "source": [
    "# Create a 2-dimensional NumPy array using np.array()\n",
    "a2 = np.array([[1, 2, 3],[4, 5, 6]])\n",
    "a2"
   ]
  },
  {
   "cell_type": "code",
   "execution_count": 5,
   "id": "e724a317-aee5-4070-b19f-8c05d54414f3",
   "metadata": {},
   "outputs": [
    {
     "data": {
      "text/plain": [
       "array([[[ 1,  2,  3],\n",
       "        [ 4,  5,  6],\n",
       "        [ 7,  8,  9]],\n",
       "\n",
       "       [[10, 11, 12],\n",
       "        [13, 14, 15],\n",
       "        [16, 17, 18]]])"
      ]
     },
     "execution_count": 5,
     "metadata": {},
     "output_type": "execute_result"
    }
   ],
   "source": [
    "# Create a 3-dimensional Numpy array using np.array()\n",
    "a3 = np.array([\n",
    "                [[1,2,3],\n",
    "                 [4,5,6],\n",
    "                 [7,8,9]],\n",
    "                [[10,11,12],\n",
    "                 [13,14,15],\n",
    "                 [16,17,18]]\n",
    "              ]) \n",
    "a3"
   ]
  },
  {
   "cell_type": "code",
   "execution_count": 12,
   "id": "50e3da72-3309-46a7-9741-84e9b2a09c35",
   "metadata": {},
   "outputs": [
    {
     "name": "stdout",
     "output_type": "stream",
     "text": [
      "a1 shape:  (3,)\n",
      "a1 datatype:  int32\n",
      "a1 size:  3\n",
      "a1 type <class 'numpy.ndarray'>\n"
     ]
    }
   ],
   "source": [
    "# Attributes of 1-dimensional array (shape, \n",
    "# number of dimensions, data type, size and type)\n",
    "print(\"a1 shape: \", a1.shape)\n",
    "print(\"a1 datatype: \", a1.dtype)\n",
    "print(\"a1 size: \", a1.size)\n",
    "print(\"a1 type\", type(a1))"
   ]
  },
  {
   "cell_type": "code",
   "execution_count": 13,
   "id": "7941b182-d82e-4549-b779-422da9f7d08c",
   "metadata": {},
   "outputs": [
    {
     "name": "stdout",
     "output_type": "stream",
     "text": [
      "a2 shape:  (2, 3)\n",
      "a2 datatype:  int32\n",
      "a2 size:  6\n",
      "a2 type <class 'numpy.ndarray'>\n"
     ]
    }
   ],
   "source": [
    "# Attributes of 2-dimensional array\n",
    "print(\"a2 shape: \", a2.shape)\n",
    "print(\"a2 datatype: \", a2.dtype)\n",
    "print(\"a2 size: \", a2.size)\n",
    "print(\"a2 type\", type(a2))"
   ]
  },
  {
   "cell_type": "code",
   "execution_count": 14,
   "id": "459f82be-93b3-4c37-8a04-b2f995fa7abe",
   "metadata": {},
   "outputs": [
    {
     "name": "stdout",
     "output_type": "stream",
     "text": [
      "a3 shape:  (2, 3, 3)\n",
      "a3 datatype:  int32\n",
      "a3 size:  18\n",
      "a3 type <class 'numpy.ndarray'>\n"
     ]
    }
   ],
   "source": [
    "# Attributes of 3-dimensional array\n",
    "print(\"a3 shape: \", a3.shape)\n",
    "print(\"a3 datatype: \", a3.dtype)\n",
    "print(\"a3 size: \", a3.size)\n",
    "print(\"a3 type\", type(a3))"
   ]
  },
  {
   "cell_type": "code",
   "execution_count": 23,
   "id": "4ef831dd-9df5-447e-bf3c-aad465f1b278",
   "metadata": {},
   "outputs": [
    {
     "data": {
      "text/html": [
       "<div>\n",
       "<style scoped>\n",
       "    .dataframe tbody tr th:only-of-type {\n",
       "        vertical-align: middle;\n",
       "    }\n",
       "\n",
       "    .dataframe tbody tr th {\n",
       "        vertical-align: top;\n",
       "    }\n",
       "\n",
       "    .dataframe thead th {\n",
       "        text-align: right;\n",
       "    }\n",
       "</style>\n",
       "<table border=\"1\" class=\"dataframe\">\n",
       "  <thead>\n",
       "    <tr style=\"text-align: right;\">\n",
       "      <th></th>\n",
       "      <th>0</th>\n",
       "      <th>1</th>\n",
       "      <th>2</th>\n",
       "    </tr>\n",
       "  </thead>\n",
       "  <tbody>\n",
       "    <tr>\n",
       "      <th>0</th>\n",
       "      <td>1</td>\n",
       "      <td>2</td>\n",
       "      <td>3</td>\n",
       "    </tr>\n",
       "  </tbody>\n",
       "</table>\n",
       "</div>"
      ],
      "text/plain": [
       "   0  1  2\n",
       "0  1  2  3"
      ]
     },
     "execution_count": 23,
     "metadata": {},
     "output_type": "execute_result"
    }
   ],
   "source": [
    "# Import pandas and create a DataFrame out of one\n",
    "# of the arrays you've created\n",
    "import pandas as pd\n",
    "a1_df = pd.DataFrame(a1).T\n",
    "a1_df"
   ]
  },
  {
   "cell_type": "code",
   "execution_count": 25,
   "id": "8d59c9c7-ee33-4c3a-8ca3-c0dff189cfe1",
   "metadata": {},
   "outputs": [
    {
     "data": {
      "text/plain": [
       "array([[1, 1],\n",
       "       [1, 1],\n",
       "       [1, 1],\n",
       "       [1, 1],\n",
       "       [1, 1],\n",
       "       [1, 1],\n",
       "       [1, 1],\n",
       "       [1, 1],\n",
       "       [1, 1],\n",
       "       [1, 1]])"
      ]
     },
     "execution_count": 25,
     "metadata": {},
     "output_type": "execute_result"
    }
   ],
   "source": [
    "# Create an array of shape (10, 2) with only ones\n",
    "ones = np.ones(shape = (10,2), dtype = \"int32\")\n",
    "ones"
   ]
  },
  {
   "cell_type": "code",
   "execution_count": 26,
   "id": "3ace72be-7935-4c54-a17b-d4f848a0191c",
   "metadata": {},
   "outputs": [
    {
     "data": {
      "text/plain": [
       "array([[[0., 0., 0.],\n",
       "        [0., 0., 0.]],\n",
       "\n",
       "       [[0., 0., 0.],\n",
       "        [0., 0., 0.]],\n",
       "\n",
       "       [[0., 0., 0.],\n",
       "        [0., 0., 0.]],\n",
       "\n",
       "       [[0., 0., 0.],\n",
       "        [0., 0., 0.]],\n",
       "\n",
       "       [[0., 0., 0.],\n",
       "        [0., 0., 0.]],\n",
       "\n",
       "       [[0., 0., 0.],\n",
       "        [0., 0., 0.]],\n",
       "\n",
       "       [[0., 0., 0.],\n",
       "        [0., 0., 0.]]])"
      ]
     },
     "execution_count": 26,
     "metadata": {},
     "output_type": "execute_result"
    }
   ],
   "source": [
    "# Create an array of shape (7, 2, 3) of only zeros\n",
    "zeros = np.zeros(shape = (7, 2, 3))\n",
    "zeros"
   ]
  },
  {
   "cell_type": "code",
   "execution_count": 28,
   "id": "6256c986-f9a8-4e0b-90ab-a04cd5f35839",
   "metadata": {},
   "outputs": [
    {
     "data": {
      "text/plain": [
       "array([ 0,  3,  6,  9, 12, 15, 18, 21, 24, 27, 30, 33, 36, 39, 42, 45, 48,\n",
       "       51, 54, 57, 60, 63, 66, 69, 72, 75, 78, 81, 84, 87, 90, 93, 96, 99])"
      ]
     },
     "execution_count": 28,
     "metadata": {},
     "output_type": "execute_result"
    }
   ],
   "source": [
    "# Create an array within a range of 0 and 100 with step 3\n",
    "arr_1 = np.arange(0, 100, 3)\n",
    "arr_1"
   ]
  },
  {
   "cell_type": "code",
   "execution_count": 30,
   "id": "52c80c26-451f-4fb7-889a-0a17acc0eeda",
   "metadata": {},
   "outputs": [
    {
     "data": {
      "text/plain": [
       "array([[2, 1],\n",
       "       [7, 1],\n",
       "       [0, 8],\n",
       "       [1, 6],\n",
       "       [1, 9],\n",
       "       [2, 5],\n",
       "       [3, 3]])"
      ]
     },
     "execution_count": 30,
     "metadata": {},
     "output_type": "execute_result"
    }
   ],
   "source": [
    "# Create a random array with numbers between 0 and 10 of size (7, 2)\n",
    "arr_2 = np.random.randint(0,10, size = (7,2))\n",
    "arr_2"
   ]
  },
  {
   "cell_type": "code",
   "execution_count": 32,
   "id": "afb3fbdc-0f5b-4f49-bc4d-c25f92f64fc2",
   "metadata": {},
   "outputs": [
    {
     "data": {
      "text/plain": [
       "array([[0.75351581, 0.44674142, 0.04536921, 0.55025624, 0.36613848],\n",
       "       [0.77777654, 0.70864605, 0.15954061, 0.88487777, 0.47840404],\n",
       "       [0.27974155, 0.58430208, 0.41913909, 0.28665977, 0.2535652 ]])"
      ]
     },
     "execution_count": 32,
     "metadata": {},
     "output_type": "execute_result"
    }
   ],
   "source": [
    "# Create a random array of floats between 0 & 1 of shape (3, 5)\n",
    "arr_3 = np.random.random(size = (3,5))\n",
    "arr_3"
   ]
  },
  {
   "cell_type": "code",
   "execution_count": 35,
   "id": "28564ef6-e3c6-42f5-9034-4a8d08f4d92d",
   "metadata": {},
   "outputs": [
    {
     "data": {
      "text/plain": [
       "array([[6, 3, 7, 4, 6, 9],\n",
       "       [2, 6, 7, 4, 3, 7],\n",
       "       [7, 2, 5, 4, 1, 7],\n",
       "       [5, 1, 4, 0, 9, 5]])"
      ]
     },
     "execution_count": 35,
     "metadata": {},
     "output_type": "execute_result"
    }
   ],
   "source": [
    "# Set the random seed to 42\n",
    "np.random.seed(42)\n",
    "\n",
    "# Create a random array of numbers between 0 & 10 of size (4, 6)\n",
    "arr_4 = np.random.randint(0, 10, size = (4,6))\n",
    "arr_4"
   ]
  },
  {
   "cell_type": "code",
   "execution_count": 36,
   "id": "64dbd298-9dff-4274-8a3b-d235b280933c",
   "metadata": {},
   "outputs": [
    {
     "data": {
      "text/plain": [
       "array([ 1,  2,  3,  4,  5,  7,  9, 10])"
      ]
     },
     "execution_count": 36,
     "metadata": {},
     "output_type": "execute_result"
    }
   ],
   "source": [
    "# Create an array of random numbers between 1 & 10 of size (3, 7)\n",
    "# and save it to a variable\n",
    "arr_4 = np.random.randint(1, 11, size = (3,7))\n",
    "\n",
    "# Find the unique numbers in the array you just created\n",
    "np.unique(arr_4)"
   ]
  },
  {
   "cell_type": "code",
   "execution_count": 38,
   "id": "13df3c91-4b03-4780-8b23-2c0c81b25d82",
   "metadata": {},
   "outputs": [
    {
     "data": {
      "text/plain": [
       "9"
      ]
     },
     "execution_count": 38,
     "metadata": {},
     "output_type": "execute_result"
    }
   ],
   "source": [
    "# Find the 0'th index of the latest array you created\n",
    "arr_4[0][0]"
   ]
  },
  {
   "cell_type": "code",
   "execution_count": 40,
   "id": "27cfcff0-164f-451c-95dc-3d7e5abfb489",
   "metadata": {},
   "outputs": [
    {
     "data": {
      "text/plain": [
       "array([[ 9,  1, 10,  3,  7,  4,  9],\n",
       "       [ 3,  5,  3,  7,  5,  9,  7],\n",
       "       [ 2,  4,  9,  2, 10,  9, 10]])"
      ]
     },
     "execution_count": 40,
     "metadata": {},
     "output_type": "execute_result"
    }
   ],
   "source": [
    "arr_4"
   ]
  },
  {
   "cell_type": "code",
   "execution_count": 41,
   "id": "b8936d04-37e2-47cb-9b49-da81f4b37e9e",
   "metadata": {},
   "outputs": [
    {
     "data": {
      "text/plain": [
       "array([[ 9,  1, 10,  3,  7,  4,  9],\n",
       "       [ 3,  5,  3,  7,  5,  9,  7]])"
      ]
     },
     "execution_count": 41,
     "metadata": {},
     "output_type": "execute_result"
    }
   ],
   "source": [
    "# Get the first 2 rows of latest array you created\n",
    "arr_4[:2]"
   ]
  },
  {
   "cell_type": "code",
   "execution_count": 42,
   "id": "82eff6ed-6d1e-4391-9abd-2305d508ffbd",
   "metadata": {},
   "outputs": [
    {
     "data": {
      "text/plain": [
       "array([[9, 1],\n",
       "       [3, 5]])"
      ]
     },
     "execution_count": 42,
     "metadata": {},
     "output_type": "execute_result"
    }
   ],
   "source": [
    "# Get the first 2 values of the first 2 rows of the latest array\n",
    "arr_4[:2,:2]"
   ]
  },
  {
   "cell_type": "code",
   "execution_count": 44,
   "id": "46dfaa9f-0f16-4b6e-b0aa-42bf4b6efaf4",
   "metadata": {},
   "outputs": [],
   "source": [
    "# Create a random array of numbers between 0 & 10 and an array of ones\n",
    "# both of size (3, 5), save them both to variables\n",
    "arr_rand_1 = np.random.randint(0,11, size = (3, 5))\n",
    "ones = np.ones(shape = (3, 5))"
   ]
  },
  {
   "cell_type": "code",
   "execution_count": 45,
   "id": "bc7cca42-fa1b-499c-82a6-38c9b92a65ee",
   "metadata": {},
   "outputs": [
    {
     "data": {
      "text/plain": [
       "array([[ 4.,  6.,  2., 10.,  2.],\n",
       "       [10.,  4.,  8.,  7.,  9.],\n",
       "       [ 8.,  5.,  2.,  5.,  8.]])"
      ]
     },
     "execution_count": 45,
     "metadata": {},
     "output_type": "execute_result"
    }
   ],
   "source": [
    "# Add the two arrays together\n",
    "arr_rand_1 + ones"
   ]
  },
  {
   "cell_type": "code",
   "execution_count": 46,
   "id": "8834995b-0df1-4390-abcf-89044f47ceab",
   "metadata": {},
   "outputs": [],
   "source": [
    "# Create another array of ones of shape (5, 3)\n",
    "ones_2 = np.ones(shape = (5,3))"
   ]
  },
  {
   "cell_type": "code",
   "execution_count": 47,
   "id": "28efda90-fe80-4c20-b2df-b44736b3c527",
   "metadata": {},
   "outputs": [
    {
     "ename": "ValueError",
     "evalue": "operands could not be broadcast together with shapes (3,5) (5,3) ",
     "output_type": "error",
     "traceback": [
      "\u001b[1;31m---------------------------------------------------------------------------\u001b[0m",
      "\u001b[1;31mValueError\u001b[0m                                Traceback (most recent call last)",
      "Cell \u001b[1;32mIn[47], line 2\u001b[0m\n\u001b[0;32m      1\u001b[0m \u001b[38;5;66;03m# Try add the array of ones and the other most recent array together\u001b[39;00m\n\u001b[1;32m----> 2\u001b[0m arr_rand_1 \u001b[38;5;241m+\u001b[39m ones_2\n",
      "\u001b[1;31mValueError\u001b[0m: operands could not be broadcast together with shapes (3,5) (5,3) "
     ]
    }
   ],
   "source": [
    "# Try add the array of ones and the other most recent array together\n",
    "arr_rand_1 + ones_2"
   ]
  },
  {
   "cell_type": "code",
   "execution_count": 48,
   "id": "c1a7d433-74cd-4b25-8781-94408a8e1ea9",
   "metadata": {},
   "outputs": [],
   "source": [
    "## This arrays cant be added together beacause of shape (or size) problems"
   ]
  },
  {
   "cell_type": "code",
   "execution_count": null,
   "id": "fcb8786b-b59a-4ab4-89ab-916ddd3cd8e4",
   "metadata": {},
   "outputs": [],
   "source": []
  }
 ],
 "metadata": {
  "kernelspec": {
   "display_name": "Python 3 (ipykernel)",
   "language": "python",
   "name": "python3"
  },
  "language_info": {
   "codemirror_mode": {
    "name": "ipython",
    "version": 3
   },
   "file_extension": ".py",
   "mimetype": "text/x-python",
   "name": "python",
   "nbconvert_exporter": "python",
   "pygments_lexer": "ipython3",
   "version": "3.12.2"
  }
 },
 "nbformat": 4,
 "nbformat_minor": 5
}
